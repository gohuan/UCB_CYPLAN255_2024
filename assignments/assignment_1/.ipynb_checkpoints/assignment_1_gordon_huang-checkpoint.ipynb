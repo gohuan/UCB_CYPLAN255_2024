{
 "cells": [
  {
   "cell_type": "markdown",
   "metadata": {},
   "source": [
    "## Assignment 1 | Data Types\n",
    "\n",
    "Add code cells as needed for your answers. "
   ]
  },
  {
   "cell_type": "markdown",
   "metadata": {},
   "source": [
    "### Exercise 1: Manipulating Lists"
   ]
  },
  {
   "cell_type": "markdown",
   "metadata": {},
   "source": [
    "Create a list containing the numbers 10, 20, and 30. Store your list as a variable named `a`. Then create a second list containing the numbers 30, 60, and 90. Call this this `b`."
   ]
  },
  {
   "cell_type": "code",
   "execution_count": 1,
   "metadata": {},
   "outputs": [],
   "source": [
    "# List of numbers 10, 20, and 30.\n",
    "a = [10, 20, 30]\n",
    "\n",
    "# List of numbers 30, 60, and 90.\n",
    "b = [30, 60, 90]"
   ]
  },
  {
   "cell_type": "markdown",
   "metadata": {},
   "source": [
    "In the cells below, write Python expressions to create the following four outputs by combining `a` and `b` in creative ways:\n",
    "\n",
    "1. [[10, 20, 30], [30, 60, 90]]\n",
    "\n",
    "2. [10, 20, 30, 30, 60, 90]\n",
    "\n",
    "3. [10, 20, 60, 90]\n",
    "\n",
    "4. [20, 40, 60]"
   ]
  },
  {
   "cell_type": "code",
   "execution_count": 5,
   "metadata": {},
   "outputs": [
    {
     "data": {
      "text/plain": [
       "[[10, 20, 30], [30, 60, 90]]"
      ]
     },
     "execution_count": 5,
     "metadata": {},
     "output_type": "execute_result"
    }
   ],
   "source": [
    "# 1. [[10, 20, 30], [30, 60, 90]]\n",
    "[a] + [b]"
   ]
  },
  {
   "cell_type": "code",
   "execution_count": 6,
   "metadata": {},
   "outputs": [
    {
     "data": {
      "text/plain": [
       "[10, 20, 30, 30, 60, 90]"
      ]
     },
     "execution_count": 6,
     "metadata": {},
     "output_type": "execute_result"
    }
   ],
   "source": [
    "# 2. [10, 20, 30, 30, 60, 90]\n",
    "a + b"
   ]
  },
  {
   "cell_type": "code",
   "execution_count": 12,
   "metadata": {},
   "outputs": [
    {
     "data": {
      "text/plain": [
       "[10, 20, 60, 90]"
      ]
     },
     "execution_count": 12,
     "metadata": {},
     "output_type": "execute_result"
    }
   ],
   "source": [
    "# 3. [10, 20, 60, 90]\n",
    "a[:2] + b[1:]"
   ]
  },
  {
   "cell_type": "code",
   "execution_count": 21,
   "metadata": {},
   "outputs": [
    {
     "data": {
      "text/plain": [
       "[20, 40, 60]"
      ]
     },
     "execution_count": 21,
     "metadata": {},
     "output_type": "execute_result"
    }
   ],
   "source": [
    "# 4. [20, 40, 60]\n",
    "[a[1]] + [a[0]+a[2]] + [b[1]]"
   ]
  },
  {
   "cell_type": "markdown",
   "metadata": {},
   "source": [
    "### Exercise 2. Working with Lists\n",
    "\n",
    "Create a list that contains the sums of each of the lists in G. \n",
    "\n",
    "`G = [[13, 9, 8], [14, 6, 12], [10, 13, 11], [7, 18, 9]]`\n",
    "\n",
    "Your output should look like:\n",
    "\n",
    "- `[30, 32, 34, 34]`\n",
    "\n",
    "Hint: try computing the sum for just one list first."
   ]
  },
  {
   "cell_type": "code",
   "execution_count": 53,
   "metadata": {},
   "outputs": [
    {
     "data": {
      "text/plain": [
       "[30, 32, 34, 34]"
      ]
     },
     "execution_count": 53,
     "metadata": {},
     "output_type": "execute_result"
    }
   ],
   "source": [
    "# Compute sum of G to [30, 32, 34, 34]\n",
    "G = [[13, 9, 8], [14, 6, 12], [10, 13, 11], [7, 18, 9]]\n",
    "[G[0][0]+G[0][1]+G[0][2]] + [G[1][0]+G[1][1]+G[1][2]] + [G[2][0]+G[2][1]+G[2][2]] + [G[3][0]+G[3][1]+G[3][2]]"
   ]
  },
  {
   "cell_type": "markdown",
   "metadata": {},
   "source": [
    "### Exercise 3: String Manipulation\n",
    "\n",
    "Turn the string below into 'all good countrymen' using the minimum amount of code, using only the methods we've covered so far. A couple of lines of code should do the trick.  Note: this requires string and list methods."
   ]
  },
  {
   "cell_type": "code",
   "execution_count": 55,
   "metadata": {},
   "outputs": [],
   "source": [
    "s = 'Now is the time for all good men to come to the aid of their country!'"
   ]
  },
  {
   "cell_type": "code",
   "execution_count": 99,
   "metadata": {},
   "outputs": [
    {
     "data": {
      "text/plain": [
       "'all good countrymen'"
      ]
     },
     "execution_count": 99,
     "metadata": {},
     "output_type": "execute_result"
    }
   ],
   "source": [
    "# Turn the string below into 'all good countrymen'\n",
    "s.split()[5] + \" \" + s.split()[6] + \" \" + s.split()[-1].strip(\"!\")+s.split()[7]"
   ]
  },
  {
   "cell_type": "markdown",
   "metadata": {},
   "source": [
    "### Exercise 4: String Manipulation and Type Conversion\n",
    "\n",
    "Define a variable `a = \"Sarah earns $96500 in a year\"`. Then maniuplate the value of `a` in order to print the following string: `Sarah earns $8041.67 monthly`\n",
    "\n",
    "Start by doing it in several steps and then combine them one step at a time until you can do it in one line."
   ]
  },
  {
   "cell_type": "code",
   "execution_count": 140,
   "metadata": {},
   "outputs": [
    {
     "name": "stdout",
     "output_type": "stream",
     "text": [
      "Sarah earns $8041.67 monthly\n"
     ]
    }
   ],
   "source": [
    "# Print the following string: Sarah earns $8041.67 monthly\n",
    "a = \"Sarah earns $96500 in a year\"\n",
    "print(a.split()[0] + \" \" + a.split()[1] + \" $8041.67 monthly\")"
   ]
  },
  {
   "cell_type": "markdown",
   "metadata": {},
   "source": [
    "### Exercise 5: Create and Query a Dictionary on State Demographics\n",
    "\n",
    "Create two dictionaries, one for California and one for New York state, based on the data in the following table:\n",
    "\n",
    "| States | Pop Density | Prop White | Prop Afr Amer | Prop Asian | Prop Other | Owners | Renters |\n",
    "| --- | ---: | ---: | ---: | ---: | ---: | ---: | ---: |\n",
    "| CA | 239.1 | 0.57  | 0.06 | 0.13 | 0.22 | 7035371 | 5542127 |\n",
    "| NY | 411.2 | 0.65  | 0.15 | 0.07 | 0.22 | 3897837 | 3419918 |\n",
    "\n",
    "Each dictionary should have the following keys and value types: `name: (string)` , `population density: (float)`, `race (dict)`, `tenure: (dict)`. \n",
    "\n",
    "1.  Create one dictionary called CA and one called NY that contain dictionaries containing name, pop_density, race as a dictionary, and tenure for California and New York.  Now combine these into a dictionary called \"states\", making it a dictionary of dictionaries, or a nested dictionary.\n",
    "\n",
    "1.  Check if Texas is in our state dictionary (we know it isn't but show us).\n",
    "\n",
    "1. Print the White population in New York as a percentage\n",
    "\n",
    "1. Assume there was a typo in the data, and update the White population fraction of NY to 0.64. Verify that it was updated by printing the percentage again.\n",
    "\n",
    "1. Print the percentage of households that are renters in California, with two decimal places"
   ]
  },
  {
   "cell_type": "code",
   "execution_count": 228,
   "metadata": {},
   "outputs": [
    {
     "name": "stdout",
     "output_type": "stream",
     "text": [
      "White population in New York as a percentage: 0.65%\n",
      "Updated white population fraction: 0.64%\n",
      "Percentage of households renting in California: 44.06%\n"
     ]
    }
   ],
   "source": [
    "# 1. Create dictionaries CA and NY with name, pop_density, race, and tenure\n",
    "CA = {\"name\":\"California\", \"pop_density\": 239.1, \"race\":{\"Prop White\":0.57, \"Prop Afr Amer\":0.06, \"Prop Asian\":0.13, \"Prop Other\":0.22}, \"tenure\":{\"Owners\":7035371, \"Renters\":5542127}}\n",
    "NY = {\"name\":\"New York\", \"pop_density\": 411.2, \"race\":{\"Prop White\":0.65, \"Prop Afr Amer\":0.15, \"Prop Asian\":0.07, \"Prop Other\":0.22}, \"tenure\":{\"Owners\":3897837, \"Renters\":3419918}}\n",
    "# Make a nested dictionary of both dictionaries\n",
    "states = {\"CA\":CA, \"NY\":NY}\n",
    "\n",
    "# 2. Check if Texas is in our state dictionary\n",
    "#states['TX']\n",
    "# KeyError: 'TX'\n",
    "\n",
    "# 3. Print white population in New York as a percentage\n",
    "print(f\"White population in New York as a percentage: {states['NY']['race']['Prop White']}%\")\n",
    "\n",
    "# 4. Update white population fraction to 0.64\n",
    "states['NY']['race']['Prop White'] = 0.64\n",
    "print(f\"Updated white population fraction: {states['NY']['race']['Prop White']}%\")\n",
    "\n",
    "# 5. Print percentage of households renting in California\n",
    "print(f\"Percentage of households renting in California: {states['CA']['tenure']['Renters']/(states['CA']['tenure']['Owners'] + states['CA']['tenure']['Renters']) * 100:.2f}%\")"
   ]
  },
  {
   "cell_type": "markdown",
   "metadata": {
    "collapsed": true,
    "jupyter": {
     "outputs_hidden": true
    }
   },
   "source": [
    "### Exercise 6: Working with Numpy Arrays\n",
    "\n",
    "1. Create and print a 4 x 4 array named `a` with value 3 everywhere.\n",
    "\n",
    "1. Create and print a 4 x 4 array named `b` with elements drawn from a uniform random distribution \n",
    "\n",
    "1. Create and print array `c` by dividing a by b\n",
    "\n",
    "1. Compute and print the min, mean, max, median, and 90th percentile values of `c`\n",
    "\n",
    "1. Compute and print the sum of the second column in `c`"
   ]
  },
  {
   "cell_type": "code",
   "execution_count": 307,
   "metadata": {},
   "outputs": [
    {
     "data": {
      "text/plain": [
       "array([[3., 3., 3., 3.],\n",
       "       [3., 3., 3., 3.],\n",
       "       [3., 3., 3., 3.],\n",
       "       [3., 3., 3., 3.]])"
      ]
     },
     "execution_count": 307,
     "metadata": {},
     "output_type": "execute_result"
    }
   ],
   "source": [
    "# Import Numpy \n",
    "import numpy as np\n",
    "np.random.seed(123) \n",
    "# 1. Create array, a, in 4x4\n",
    "a = np.zeros((4,4))\n",
    "# Turn zeros to 3\n",
    "a[:] = 3\n",
    "a"
   ]
  },
  {
   "cell_type": "code",
   "execution_count": 308,
   "metadata": {},
   "outputs": [
    {
     "data": {
      "text/plain": [
       "array([[6.96469186, 2.86139335, 2.26851454, 5.51314769],\n",
       "       [7.1946897 , 4.2310646 , 9.80764198, 6.84829739],\n",
       "       [4.80931901, 3.92117518, 3.43178016, 7.29049707],\n",
       "       [4.38572245, 0.59677897, 3.98044255, 7.37995406]])"
      ]
     },
     "execution_count": 308,
     "metadata": {},
     "output_type": "execute_result"
    }
   ],
   "source": [
    "# 2. Create a 4x4 of elements from a random distribution\n",
    "b = np.random.uniform(0, 10, 16).reshape(4,4)\n",
    "b"
   ]
  },
  {
   "cell_type": "code",
   "execution_count": 309,
   "metadata": {},
   "outputs": [
    {
     "data": {
      "text/plain": [
       "array([[0.43074411, 1.04844026, 1.3224513 , 0.54415375],\n",
       "       [0.4169742 , 0.70904141, 0.30588392, 0.43806509],\n",
       "       [0.62378894, 0.76507676, 0.87418187, 0.41149458],\n",
       "       [0.68403782, 5.02698682, 0.75368504, 0.4065066 ]])"
      ]
     },
     "execution_count": 309,
     "metadata": {},
     "output_type": "execute_result"
    }
   ],
   "source": [
    "# 3. Create c which divides a by b\n",
    "c = a/b\n",
    "c"
   ]
  },
  {
   "cell_type": "code",
   "execution_count": 321,
   "metadata": {},
   "outputs": [
    {
     "name": "stdout",
     "output_type": "stream",
     "text": [
      "Min: 0.3058839224495757, Max: 5.026986824999795, Mean: 0.9225945291721893, Median: 0.6539133764535519, 90th Percentile: 1.18544578293742\n"
     ]
    }
   ],
   "source": [
    "# 4. Prin min, max, mean, median, 90th percentile of c\n",
    "print(f\"Min: {c.min()}, Max: {c.max()}, Mean: {c.mean()}, Median: {np.median(c)}, 90th Percentile: {np.percentile(c, 90)}\")"
   ]
  },
  {
   "cell_type": "code",
   "execution_count": 333,
   "metadata": {},
   "outputs": [
    {
     "name": "stdout",
     "output_type": "stream",
     "text": [
      "[0.4169742  0.70904141 0.30588392 0.43806509]\n",
      "Sum of second column in c: 1.8699646210082532\n"
     ]
    }
   ],
   "source": [
    "# 5. Print sum of second column in c\n",
    "print(c[1])\n",
    "print(f\"Sum of second column in c: {sum(c[1])}\")"
   ]
  }
 ],
 "metadata": {
  "kernelspec": {
   "display_name": "Python 3 (ipykernel)",
   "language": "python",
   "name": "python3"
  },
  "language_info": {
   "codemirror_mode": {
    "name": "ipython",
    "version": 3
   },
   "file_extension": ".py",
   "mimetype": "text/x-python",
   "name": "python",
   "nbconvert_exporter": "python",
   "pygments_lexer": "ipython3",
   "version": "3.8.18"
  },
  "toc": {
   "base_numbering": 1,
   "nav_menu": {},
   "number_sections": false,
   "sideBar": true,
   "skip_h1_title": false,
   "title_cell": "Table of Contents",
   "title_sidebar": "Contents",
   "toc_cell": false,
   "toc_position": {},
   "toc_section_display": true,
   "toc_window_display": false
  }
 },
 "nbformat": 4,
 "nbformat_minor": 4
}

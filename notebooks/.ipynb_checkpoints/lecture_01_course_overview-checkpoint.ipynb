{
 "cells": [
  {
   "cell_type": "markdown",
   "id": "893c435f",
   "metadata": {
    "slideshow": {
     "slide_type": "slide"
    }
   },
   "source": [
    "# CYPLAN 255, Spring 2024\n",
    "## Urban Informatics and Data Visualization\n",
    "\n",
    "#### Instructor: Max Gardner\n",
    "#### GSI: Meiqing Li"
   ]
  },
  {
   "cell_type": "markdown",
   "id": "8ff6adeb",
   "metadata": {
    "slideshow": {
     "slide_type": "slide"
    }
   },
   "source": [
    "# Lecture 01 -- Course Introduction\n",
    "*******\n",
    "January 17, 2024"
   ]
  },
  {
   "cell_type": "markdown",
   "id": "71e23616",
   "metadata": {
    "slideshow": {
     "slide_type": "slide"
    }
   },
   "source": [
    "# Agenda\n",
    "1. Introductions/Zoom check\n",
    "2. Background\n",
    "3. Syllabus\n",
    "4. For next week (\"homework\")\n",
    "5. Questions"
   ]
  },
  {
   "cell_type": "markdown",
   "id": "45308365",
   "metadata": {
    "slideshow": {
     "slide_type": "slide"
    }
   },
   "source": [
    "# 1. Welcome"
   ]
  },
  {
   "cell_type": "markdown",
   "id": "03d2c146",
   "metadata": {
    "cell_style": "split",
    "slideshow": {
     "slide_type": "slide"
    }
   },
   "source": [
    "## 1.1 Who am I?\n",
    "\n",
    "- Max Gardner, Ph.D. in CEE from Cal ('22)\n",
    "- Based in Los Angeles\n",
    "- Geodata person for ~10 years\n",
    "- Researcher/Data Scientist at Streetlight Data \n",
    "- Really into Letterboxd right now\n",
    "- 1 dog (Rupert)\n",
    "\n",
    "\n",
    "\n",
    "\n",
    "\n",
    "\n",
    "\n"
   ]
  },
  {
   "cell_type": "markdown",
   "id": "a8069235",
   "metadata": {
    "cell_style": "split",
    "slideshow": {
     "slide_type": "fragment"
    }
   },
   "source": [
    "<img src=\"https://lh3.googleusercontent.com/pw/ABLVV85cV_wA-9TDlA4D6FfEblizI7NF-dPfaAlLWT7BxrPnUfpC6DVMv_pXD3uGGj3bIXK_S8suRHJjgO9EA4fCwPsi4MLlSnZtQewEKrFy-alS7TYvTiGsSEFGMhXNA22q6YYYG4Q22eBtTDRAJRkXusSrSw=w1944-h2592-s-no\" width=40%> \n",
    "\n",
    "\n",
    "\n",
    "\n",
    "\n",
    "\n"
   ]
  },
  {
   "cell_type": "markdown",
   "id": "4129af36",
   "metadata": {
    "cell_style": "split",
    "slideshow": {
     "slide_type": "fragment"
    }
   },
   "source": [
    " - Expecting 1 child (Oscar) in March (!)"
   ]
  },
  {
   "cell_type": "markdown",
   "id": "50864cd7",
   "metadata": {
    "cell_style": "split",
    "slideshow": {
     "slide_type": "fragment"
    }
   },
   "source": [
    "<img src=\"https://lh3.googleusercontent.com/pw/ABLVV84aLCMDBYZ91guN8OEQI8h6I21zMaTnrnwY1w38u7XJhSepncuBg4yi0IpfSkAkE79YJT5M3l1utmLGVxabTxgXCZllNm2C02Uk-6HGuq4GCiZZUbvk7X90WpEzhI5BPBy_C0YkuBY-Bycx92WoJfzu9A=w1192-h1210-s-no\" width=50%>"
   ]
  },
  {
   "cell_type": "markdown",
   "id": "902020e9",
   "metadata": {
    "slideshow": {
     "slide_type": "slide"
    }
   },
   "source": [
    "## 1.2 Who is your GSI?"
   ]
  },
  {
   "cell_type": "markdown",
   "id": "ca55832c",
   "metadata": {
    "slideshow": {
     "slide_type": "fragment"
    }
   },
   "source": [
    "Meiqing Li, Ph.D. Candidate in DCRP"
   ]
  },
  {
   "cell_type": "markdown",
   "id": "f2382d3e",
   "metadata": {
    "slideshow": {
     "slide_type": "slide"
    }
   },
   "source": [
    "## 1.3 Who are you?"
   ]
  },
  {
   "cell_type": "markdown",
   "id": "29467215",
   "metadata": {
    "cell_style": "split",
    "slideshow": {
     "slide_type": "fragment"
    }
   },
   "source": [
    "![](https://lh3.googleusercontent.com/pw/ABLVV87JOUx96vLMwL3EwRnLTtSHzHlIdhSw_kwv5faP0pBUg6pX8SpPPEhYoPG-8wpzJMyO8ZOFTh7-6OppKDsahBsTnb69GZJLmGL8K1ZOyF00d1GpeefUul8AZ1oCy8e_xBkSqNGTY2GYih4qhYs1rjkanw=w1492-h574-s-no)"
   ]
  },
  {
   "cell_type": "markdown",
   "id": "0e0bd327",
   "metadata": {
    "cell_style": "split",
    "slideshow": {
     "slide_type": "fragment"
    }
   },
   "source": [
    "![](https://lh3.googleusercontent.com/pw/ABLVV87VDYHfQIvnyRptw2Iqm3lhc1cHd1s5QsL8ofplKYOtpxq5CD0iShp_ic6zQukvZArgWlBRACS2d70hpWbEDYi-ScFsQBGBPD1lZ5ZNY3e-3bgw_mTqjERE4P-8uifF7e-elmmg4xEYda2XaRMMgDRRpQ=w1512-h652-s-no)"
   ]
  },
  {
   "cell_type": "markdown",
   "id": "c353de3b",
   "metadata": {
    "cell_style": "split",
    "slideshow": {
     "slide_type": "fragment"
    }
   },
   "source": [
    "![](https://lh3.googleusercontent.com/pw/ABLVV84Y6ktB5uXXpdLSkGOyfBzLzp1_GYR5USTNhtWA3baxvsUWMm93cPzMIwxwbdaO_2qVd_GztUcwy5VPyxZGSYZ8MIH06lsefDjQB2vl_VsnnEI3D03U1ucMySFi0K-X-14Qfn8GD_tdWnKeb0oACjBzrQ=w1506-h604-s-no)"
   ]
  },
  {
   "cell_type": "markdown",
   "id": "56439944",
   "metadata": {
    "cell_style": "split",
    "slideshow": {
     "slide_type": "fragment"
    }
   },
   "source": [
    "![](https://lh3.googleusercontent.com/pw/ABLVV87Y0lJ_wu0Mzqt-DSee3bVGcUuwxXdXSkYhZZVTQyLOvZCsrjHrllaO23HW98teh666IfSUKsBX7QOCC_WMeOrpgciwB5mPt2u-cYfb_FVBhduuBsuyuGsw9KuinFIAHVXwg1tj9tj8kujLn_o3o2THPQ=w1514-h618-s-no)"
   ]
  },
  {
   "cell_type": "markdown",
   "id": "8a95a755",
   "metadata": {
    "slideshow": {
     "slide_type": "slide"
    }
   },
   "source": [
    "## 1.4 Testing Zoom functionality"
   ]
  },
  {
   "cell_type": "markdown",
   "id": "92bca53a",
   "metadata": {
    "slideshow": {
     "slide_type": "slide"
    }
   },
   "source": [
    "- Survey: what is your home department?\n",
    "- Breakout rooms: \n",
    "  - What do you want to get out of this course?\n",
    "  - What is the point of learning to write code?\n",
    "  - What makes a good data analysis?"
   ]
  },
  {
   "cell_type": "markdown",
   "id": "a5e44c0c",
   "metadata": {
    "slideshow": {
     "slide_type": "slide"
    }
   },
   "source": [
    "# 2. Background "
   ]
  },
  {
   "cell_type": "markdown",
   "id": "a1ab19fb",
   "metadata": {
    "slideshow": {
     "slide_type": "slide"
    }
   },
   "source": [
    "## 2.1 What is Data Science?"
   ]
  },
  {
   "cell_type": "markdown",
   "id": "e2320ba2",
   "metadata": {
    "slideshow": {
     "slide_type": "fragment"
    }
   },
   "source": [
    "<img src=\"https://lh3.googleusercontent.com/pw/ABLVV85kJeQT8IMuJkYUL9538HZy13NMJs_QHgvojfHyT-qbIZaoePWZ9jPNYjadHsWbqo-ZccEdNbbr9TJTAvS5IaXVVEpnL_0xJnJ22WyL-JIXsf4U2JbwBg57NCrhWn-KIhVPOXlG2tgfM7lrEpAZogu4Kw=w2560-h1242-s-no\" width=80%>"
   ]
  },
  {
   "cell_type": "markdown",
   "id": "1eab78d7",
   "metadata": {
    "slideshow": {
     "slide_type": "slide"
    }
   },
   "source": [
    "## 2.2 What is \"Urban Informatics\"?"
   ]
  },
  {
   "cell_type": "markdown",
   "id": "57cade8b",
   "metadata": {
    "slideshow": {
     "slide_type": "fragment"
    }
   },
   "source": [
    "<img src=\"https://lh3.googleusercontent.com/pw/ABLVV84DJiJzas2c6JZ-9qppSsbd3kgk_vhskI3GuL8wllWm1dFwLFdT6AcAwsSH5KCbF8VuXoRAHXYWlNSu7rVJCxCcuSXRoAfjjSvmfCY7-5I6RZoTd4YJqPHIu0KoqW7m-FILmfttHrIGQOY7RYI1mb35Wg=w2099-h1327-s-no\" width=70%>"
   ]
  },
  {
   "cell_type": "markdown",
   "id": "377c9620",
   "metadata": {
    "slideshow": {
     "slide_type": "slide"
    }
   },
   "source": [
    "# 2.3 What is this course about?"
   ]
  },
  {
   "cell_type": "markdown",
   "id": "4e11e321",
   "metadata": {
    "cell_style": "split",
    "slideshow": {
     "slide_type": "fragment"
    }
   },
   "source": [
    "- Choose-your-own-adventure\n",
    "- Develop practical, in-demand, _foundational_ skills\n",
    "- Getting comfortable writing code and using the tools of the trade\n",
    "- Building a portfolio (final project)"
   ]
  },
  {
   "cell_type": "markdown",
   "id": "f6907577",
   "metadata": {
    "cell_style": "split",
    "slideshow": {
     "slide_type": "fragment"
    }
   },
   "source": [
    "![](https://m.media-amazon.com/images/I/71kLao+jZUL._SL1000_.jpg)"
   ]
  },
  {
   "cell_type": "markdown",
   "id": "d8a4068d",
   "metadata": {
    "slideshow": {
     "slide_type": "slide"
    }
   },
   "source": [
    "## 2.4 Why write code?"
   ]
  },
  {
   "cell_type": "markdown",
   "id": "e1009037",
   "metadata": {
    "slideshow": {
     "slide_type": "fragment"
    }
   },
   "source": [
    "- Precision\n",
    "- Scalability\n",
    "- Automation\n",
    "- Replicability\n",
    "- Embrace an open source lifestyle"
   ]
  },
  {
   "cell_type": "markdown",
   "id": "127ca5b0",
   "metadata": {
    "slideshow": {
     "slide_type": "slide"
    }
   },
   "source": [
    "## 2.5 Final projects"
   ]
  },
  {
   "cell_type": "markdown",
   "id": "e6b48a1b",
   "metadata": {
    "slideshow": {
     "slide_type": "fragment"
    }
   },
   "source": [
    "What makes a good data analysis/project:"
   ]
  },
  {
   "cell_type": "markdown",
   "id": "e3bc20d1",
   "metadata": {
    "cell_style": "split",
    "slideshow": {
     "slide_type": "fragment"
    }
   },
   "source": [
    "- Sophisticated tools?\n",
    "- Complex code?\n",
    "- Tons of data?\n",
    "- Novel data?"
   ]
  },
  {
   "cell_type": "markdown",
   "id": "83338cad",
   "metadata": {
    "cell_style": "split",
    "slideshow": {
     "slide_type": "fragment"
    }
   },
   "source": [
    "![](https://i.imgflip.com/8cpgfm.jpg)"
   ]
  },
  {
   "cell_type": "markdown",
   "id": "a5f306d4",
   "metadata": {
    "slideshow": {
     "slide_type": "slide"
    }
   },
   "source": [
    "## 2.5 Final projects\n",
    "\n",
    "What makes a good data analysis/project:\n",
    "- A good research question\n",
    "- Equal parts data + human judgement\n",
    "- Combine common/existing datasets in new ways\n",
    "- Recognize natural experiments (be opportunistic!)"
   ]
  },
  {
   "cell_type": "markdown",
   "id": "d32623d7",
   "metadata": {
    "slideshow": {
     "slide_type": "slide"
    }
   },
   "source": [
    "## 2.6 Keys to success in this course?\n",
    "\n",
    "- Be kind\n",
    "- Demonstrate humility\n",
    "- Be curious\n",
    "- Push yourself\n",
    "- Develop your \"toolkit\"\n",
    "- Use me as a resource!"
   ]
  },
  {
   "cell_type": "markdown",
   "id": "c103fa84",
   "metadata": {
    "slideshow": {
     "slide_type": "slide"
    }
   },
   "source": [
    "# 3. Syllabus"
   ]
  },
  {
   "cell_type": "markdown",
   "id": "d35202ce",
   "metadata": {
    "slideshow": {
     "slide_type": "fragment"
    }
   },
   "source": [
    "- a living document: https://github.com/mxndrwgrdnr/UCB_CYPLAN255_2024\n",
    "- highlights:\n",
    "   - attendance policy (Zoom conduct)\n",
    "   - academic accommodations\n",
    "   - guest lectures: TBD\n",
    "   - extra credit for dead links or wrong grades"
   ]
  },
  {
   "cell_type": "markdown",
   "id": "6f14a7ca",
   "metadata": {
    "slideshow": {
     "slide_type": "slide"
    }
   },
   "source": [
    "# 4. For next time "
   ]
  },
  {
   "cell_type": "markdown",
   "id": "ab382aca",
   "metadata": {
    "slideshow": {
     "slide_type": "fragment"
    }
   },
   "source": [
    "## 4.1 Homework\n",
    "1. Complete the [pre-semester survey](https://forms.gle/2x8Bw913GpxukYwFA) if you have not already done so\n",
    "2. Create an account on github.com and [fork](https://docs.github.com/en/get-started/quickstart/fork-a-repo) the [class repo](https://github.com/mxndrwgrdnr/UCB_CYPLAN255_2024)\n",
    "3. Make sure you can run Python in one of the following ways\n",
    "   - Install [Anaconda Python](https://docs.anaconda.com/anaconda/install/index.html) (recommended)\n",
    "   - Check that you’re able to log in to Berkeley [datahub](https://datahub.berkeley.edu) (last resort)\n",
    "4. Explore the wiki on the class repo: https://github.com/mxndrwgrdnr/UCB_CYPLAN255_2024/wiki\n",
    "5. Submit (via bCourses) three (3) interesting, publically available datasources that might be relevant to this class\n",
    " "
   ]
  },
  {
   "cell_type": "markdown",
   "id": "ecf864fb",
   "metadata": {
    "slideshow": {
     "slide_type": "fragment"
    }
   },
   "source": [
    "## 4.2 Other logistics\n",
    "- Waitlist\n",
    "  - bad news: it is long\n",
    "  - good new: course material will be made freely available!\n",
    "- Office hours\n",
    "- \"Berkeley time\"?"
   ]
  },
  {
   "cell_type": "markdown",
   "id": "a734994c",
   "metadata": {
    "slideshow": {
     "slide_type": "slide"
    }
   },
   "source": [
    "# 5. Questions?"
   ]
  }
 ],
 "metadata": {
  "celltoolbar": "Slideshow",
  "kernelspec": {
   "display_name": "Python [conda env:cp255] *",
   "language": "python",
   "name": "conda-env-cp255-py"
  },
  "language_info": {
   "codemirror_mode": {
    "name": "ipython",
    "version": 3
   },
   "file_extension": ".py",
   "mimetype": "text/x-python",
   "name": "python",
   "nbconvert_exporter": "python",
   "pygments_lexer": "ipython3",
   "version": "3.9.10"
  },
  "toc": {
   "base_numbering": 1,
   "nav_menu": {},
   "number_sections": false,
   "sideBar": false,
   "skip_h1_title": true,
   "title_cell": "Table of Contents",
   "title_sidebar": "Contents",
   "toc_cell": false,
   "toc_position": {},
   "toc_section_display": true,
   "toc_window_display": false
  }
 },
 "nbformat": 4,
 "nbformat_minor": 5
}

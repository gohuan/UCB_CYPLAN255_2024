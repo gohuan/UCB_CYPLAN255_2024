{
 "cells": [
  {
   "cell_type": "markdown",
   "id": "b40ef5a4",
   "metadata": {
    "slideshow": {
     "slide_type": "slide"
    }
   },
   "source": [
    "# CYPLAN255\n",
    "### Urban Informatics and Visualization"
   ]
  },
  {
   "cell_type": "markdown",
   "id": "0ceea7a8",
   "metadata": {
    "slideshow": {
     "slide_type": "slide"
    }
   },
   "source": [
    "# Lecture 13 -- APIs and Beyond <img src=\"https://i.imgur.com/HMHNjAq.jpg\" width=550 align='right' title=\"Scottish child actress, Binkie Stuart (1932 - 2001) hand in hand with a penguin during a visit to London Zoo, 15th April 1937. (Photo by Fox Photos/Hulton Archive/Getty Images)\">\n",
    "******\n",
    "March 11, 2024"
   ]
  },
  {
   "cell_type": "markdown",
   "id": "75f7d376",
   "metadata": {
    "slideshow": {
     "slide_type": "slide"
    }
   },
   "source": [
    "# Agenda\n",
    "1. Announcements\n",
    "2. Review: APIs + JSON\n",
    "2. Geocoding APIs\n",
    "3. The Census API\n",
    "4. Summary\n",
    "5. For next time\n",
    "6. Questions\n"
   ]
  },
  {
   "cell_type": "markdown",
   "id": "4f1c0cef",
   "metadata": {
    "slideshow": {
     "slide_type": "slide"
    }
   },
   "source": [
    "# 1. Announcements"
   ]
  },
  {
   "cell_type": "markdown",
   "id": "803b2bfb",
   "metadata": {
    "slideshow": {
     "slide_type": "fragment"
    }
   },
   "source": [
    "- Assignment 4 (project proposal + initial analysis) due March 10\n",
    "- Final Project description released tonight\n",
    "- Meiqing's GitHub Pages tutorial posted on bCourses\n",
    "- How far we've come"
   ]
  },
  {
   "cell_type": "markdown",
   "id": "c10fb0c2",
   "metadata": {
    "slideshow": {
     "slide_type": "slide"
    }
   },
   "source": [
    "## How Far We've Come\n",
    "\n",
    "1. ~Fundamentals of Programming~\n",
    "1. ~Intro to Data Analysis in Python~\n",
    "1. ~Intro to Data Visualization~\n",
    "1. APIs + Open Data\n",
    "1. Working with Geospatial Data\n",
    "1. Visualizing Spatial Data\n",
    "1. Statistical Analysis + Machine Learning\n"
   ]
  },
  {
   "cell_type": "markdown",
   "id": "ad29e96f",
   "metadata": {
    "slideshow": {
     "slide_type": "slide"
    }
   },
   "source": [
    "# 2. Review: APIs + JSON"
   ]
  },
  {
   "cell_type": "markdown",
   "id": "f3772037",
   "metadata": {
    "cell_style": "split",
    "slideshow": {
     "slide_type": "fragment"
    }
   },
   "source": [
    "So far we've seen how you can use an API to download data stored as a .json file in some static location. That's cool, but ultimately not that different from clicking a link and downloading a file to your desktop. It also presumes you know the URL you want ahead of time, and that you want to download the entire file.\n",
    "\n",
    "Today we're going to be seeing how you can use APIs to interact with _services_, i.e. APIs that perform operations and generate the data you want on demand. To continue with the restaurant analogy, we started off ordering fast food burgers, but now we're ready for the tasting menu at Chez Panisse."
   ]
  },
  {
   "cell_type": "markdown",
   "id": "7c0a246c",
   "metadata": {
    "cell_style": "split",
    "slideshow": {
     "slide_type": "fragment"
    }
   },
   "source": [
    "<img src=\"https://i.kym-cdn.com/photos/images/original/001/474/943/b12.jpg\" width=400>"
   ]
  },
  {
   "cell_type": "markdown",
   "id": "1d53dc07",
   "metadata": {
    "slideshow": {
     "slide_type": "slide"
    }
   },
   "source": [
    "But before we get there, let's quickly review what we've learned so far by checking out the USGS real-time earthquake data API.\n",
    "\n",
    "### 2.1. USGS real-time earthquake feeds\n",
    "\n",
    "This is an API for near-real-time data about earthquakes. Data is provided in JSON format over the web. No authentication is needed, and there's no way to customize the output. Instead, the API has a separate endpoint for each permutation of the data that users might want.\n",
    "\n",
    "**API documentation:**  \n",
    "http://earthquake.usgs.gov/earthquakes/feed/v1.0/geojson.php\n",
    "\n",
    "**Sample API endpoint, for magnitude 4.5+ earthquakes in past day:**  \n",
    "http://earthquake.usgs.gov/earthquakes/feed/v1.0/summary/4.5_day.geojson  \n"
   ]
  },
  {
   "cell_type": "markdown",
   "id": "7fbc4d57",
   "metadata": {
    "slideshow": {
     "slide_type": "fragment"
    }
   },
   "source": [
    "We'll start by querying the endpoint for magnitude 2.5+ quakes from the past week:"
   ]
  },
  {
   "cell_type": "code",
   "execution_count": null,
   "id": "ce97c6f7",
   "metadata": {
    "slideshow": {
     "slide_type": "slide"
    }
   },
   "outputs": [],
   "source": [
    "import pandas as pd\n",
    "import json    \n",
    "import requests\n",
    "import pprint\n",
    "pp = pprint.PrettyPrinter\n",
    "\n",
    "endpoint_url = \"http://earthquake.usgs.gov/earthquakes/feed/v1.0/summary/2.5_week.geojson\"\n",
    "response = requests.get(endpoint_url)\n",
    "print(response.text[:500])"
   ]
  },
  {
   "cell_type": "markdown",
   "id": "859d81a8",
   "metadata": {
    "slideshow": {
     "slide_type": "slide"
    }
   },
   "source": [
    "It looks like the results are a string with JSON-formatted data inside, so we'll parse the string into a Python dictionary using `json.loads()`:"
   ]
  },
  {
   "cell_type": "code",
   "execution_count": null,
   "id": "bc0bdfc5",
   "metadata": {
    "scrolled": true,
    "slideshow": {
     "slide_type": "fragment"
    }
   },
   "outputs": [],
   "source": [
    "data = json.loads(response.text)\n",
    "data"
   ]
  },
  {
   "cell_type": "markdown",
   "id": "1c199db8",
   "metadata": {
    "slideshow": {
     "slide_type": "slide"
    }
   },
   "source": [
    "Since JSON is just a dictionary, we can access subsets of the data can with square brackets, using labels for the named elements in a key-value pair, and numerals for positional indexing of list items.\n",
    "\n",
    "Hint: whenever you see a file that ends in `.geojson`, you'll probably want to extract the data thats stored in the `features` dictionary:"
   ]
  },
  {
   "cell_type": "code",
   "execution_count": null,
   "id": "639eda78",
   "metadata": {
    "slideshow": {
     "slide_type": "fragment"
    }
   },
   "outputs": [],
   "source": [
    "quakes = data['features']\n",
    "quakes[0]"
   ]
  },
  {
   "cell_type": "markdown",
   "id": "300de1ae",
   "metadata": {
    "slideshow": {
     "slide_type": "slide"
    }
   },
   "source": [
    "Because it is a nested dictionary at this point, we can use indexing into the dictionary to extract results.  Recall our earlier use of nested dictionaries? This is why we learned how to navigate nested dictionaries:"
   ]
  },
  {
   "cell_type": "code",
   "execution_count": null,
   "id": "8309a3c8",
   "metadata": {
    "scrolled": true,
    "slideshow": {
     "slide_type": "fragment"
    }
   },
   "outputs": [],
   "source": [
    "for q in quakes:\n",
    "    print(q['properties']['title'])"
   ]
  },
  {
   "cell_type": "markdown",
   "id": "8bb59435",
   "metadata": {
    "slideshow": {
     "slide_type": "slide"
    }
   },
   "source": [
    "**SIDE BAR: GeoJSON?**\n",
    "\n",
    "Working with geospatial data over the web, you will inevitably encounter called GeoJSON. GeoJSON is just JSON (which is just...???) with a slightly more well-defined schema to distinguish between metadata, spatial features, and classes of spatial features (e.g. points vs. lines vs. polygons).\n",
    "\n",
    "There's lots of great tools out there for working with GeoJSON, but chief among them is [geojson.io](https://geojson.io). Try copying the first 5 entries from the quakes list into the `features` list on geojson.io and see what you find.\n",
    "\n",
    "HINT: it's a little bit tricker to go from Python to JSON than from JSON to Python because Python doesn't care about single-quotes vs. double quotes, but JavaScript does. You can use the `json.dumps()` method to convert a Python dictionary to a valid JSON string."
   ]
  },
  {
   "cell_type": "code",
   "execution_count": null,
   "id": "75028def",
   "metadata": {
    "slideshow": {
     "slide_type": "fragment"
    }
   },
   "outputs": [],
   "source": [
    "print(json.dumps(response.json()['features'][:5]))"
   ]
  },
  {
   "cell_type": "markdown",
   "id": "11a9b5d9",
   "metadata": {
    "slideshow": {
     "slide_type": "slide"
    }
   },
   "source": [
    "Extracting data from nested dictionaries might be a good job for **list comprehension**:"
   ]
  },
  {
   "cell_type": "code",
   "execution_count": null,
   "id": "5e388a8d",
   "metadata": {
    "slideshow": {
     "slide_type": "fragment"
    }
   },
   "outputs": [],
   "source": [
    "d = {\n",
    "    'magnitude': [q['properties']['mag'] for q in quakes],\n",
    "    'depth': [q['geometry']['coordinates'][2] for q in quakes]\n",
    "}\n",
    "df = pd.DataFrame.from_dict(d)\n",
    "\n",
    "df.head()"
   ]
  },
  {
   "cell_type": "code",
   "execution_count": null,
   "id": "7fde900b",
   "metadata": {
    "slideshow": {
     "slide_type": "slide"
    }
   },
   "outputs": [],
   "source": [
    "print(df.describe())"
   ]
  },
  {
   "cell_type": "code",
   "execution_count": null,
   "id": "cdda945b",
   "metadata": {
    "slideshow": {
     "slide_type": "fragment"
    }
   },
   "outputs": [],
   "source": [
    "df.plot(x='magnitude', y='depth', kind='scatter')"
   ]
  },
  {
   "cell_type": "markdown",
   "id": "b87da7aa",
   "metadata": {
    "slideshow": {
     "slide_type": "slide"
    }
   },
   "source": [
    "# 3. Geocoding\n",
    "\n",
    "Now on to the main course: geocoding APIs."
   ]
  },
  {
   "cell_type": "markdown",
   "id": "da6d02f7",
   "metadata": {
    "slideshow": {
     "slide_type": "slide"
    }
   },
   "source": [
    "## 3.1. What is geocoding?"
   ]
  },
  {
   "cell_type": "markdown",
   "id": "5ba87c52",
   "metadata": {
    "slideshow": {
     "slide_type": "fragment"
    }
   },
   "source": [
    "**Geocoding** describes the process of converting place names and addresses to geographic coordinates (e.g. lat/lon)."
   ]
  },
  {
   "cell_type": "markdown",
   "id": "5deef415",
   "metadata": {
    "slideshow": {
     "slide_type": "fragment"
    }
   },
   "source": [
    "<center><img src=\"https://dmpublisher.s3-us-west-2.amazonaws.com/old-dm/directionsmag.com/ee/images/newsletter/2004/10_20/EDramowicz_Figure1_lg.gif\"></center>"
   ]
  },
  {
   "cell_type": "markdown",
   "id": "259467e7",
   "metadata": {
    "slideshow": {
     "slide_type": "fragment"
    }
   },
   "source": [
    "Reverse geocoding is just the opposite process: using geographic coordinates to extract meaningful place names/addresses."
   ]
  },
  {
   "cell_type": "markdown",
   "id": "9280e80b",
   "metadata": {
    "slideshow": {
     "slide_type": "slide"
    }
   },
   "source": [
    "Perhaps this sounds like a dull topic, but **geocoding is a fundamental tool for anyone wishing to do spatial data analysis**.\n",
    "\n",
    "Why? "
   ]
  },
  {
   "cell_type": "markdown",
   "id": "6b885400",
   "metadata": {
    "slideshow": {
     "slide_type": "fragment"
    }
   },
   "source": [
    "- 9 times out of 10, your data will have _either_ geographic coordinates _or_ administrative boundary names, but not both!\n",
    "- 9 times out of 10 you will want to use additional data sources for which the above statement also applies\n",
    "- Geocoding allows you to translate between the two (e.g. merging Census data into Craiglist rental listings)\n"
   ]
  },
  {
   "cell_type": "markdown",
   "id": "90bbfc6b",
   "metadata": {
    "slideshow": {
     "slide_type": "slide"
    }
   },
   "source": [
    "## 3.2 Geocoding with the Mapbox API"
   ]
  },
  {
   "cell_type": "markdown",
   "id": "657e7f0a",
   "metadata": {
    "slideshow": {
     "slide_type": "fragment"
    }
   },
   "source": [
    "Services like Google Maps and Mapbox have various APIs that let you access its services through code instead of through GUI apps. This one from Mapbox lets you look up the latitude-longitude coordinates of street addresses. You'll need to create a Mapbox API token in order to use this API, which you can do by following the instructions [here ](https://www.mapbox.com/signin/?route-to=%22/account/access-tokens%22) if you have not alread done so."
   ]
  },
  {
   "cell_type": "markdown",
   "id": "d39ec89d",
   "metadata": {
    "slideshow": {
     "slide_type": "slide"
    }
   },
   "source": [
    "\n",
    "The Mapbox API queries work just like the ones we've already seen, but now we're including our own query parameters in the URL endpoint!\n",
    "\n",
    "**API documentation:**  \n",
    "https://www.mapbox.com/api-documentation/#geocoding\n",
    "\n",
    "**API endpoint:**  \n",
    "https://api.mapbox.com/geocoding/v5/mapbox.places\n",
    "\n",
    "**API endpoint with query parameters:**  \n",
    "https://api.mapbox.com/geocoding/v5/mapbox.places/Wurster+Hall.json?access_token=pk.eyJ1IjoiY3AyNTVkZW1vIiwiYSI6ImRPcTlnTUEifQ.3C0d0Nk_rcwV-8JF29PU-w"
   ]
  },
  {
   "cell_type": "markdown",
   "id": "271a9d1d",
   "metadata": {
    "slideshow": {
     "slide_type": "slide"
    }
   },
   "source": [
    "### 3.2.1. A word about API keys, tokens, and passwords in general\n",
    "\n",
    "It's never a good idea to print an API key in a public document, including a script or notebook like this one. Particularly when you're using Git, deleting private data after you've already committed the change won't remove the data from your project history!\n",
    "\n",
    "Instead, its good practice to create a small .json file which you can read into Python without ever having to print its contents. In this case, let's use a text editor to create a file named **mapbox_api_key.json** and put it in the `data/` directory. It's contents should look like this:\n",
    "\n",
    "```javascript\n",
    "{\"key\":\"pk.eyJ1IjoidGFibGVkdWRlIiwiYSI6ImNsaGpmYmNhNjBoYTMzZm10aXl3OGtuZGcifQ.Rzi4EhaiUCLWCqCUq-CpCQ\"}\n",
    "```\n",
    "\n",
    "Now we can read the API key from disk:"
   ]
  },
  {
   "cell_type": "code",
   "execution_count": null,
   "id": "905b9229-f4b6-42cc-8d24-f39f10ccf750",
   "metadata": {},
   "outputs": [],
   "source": []
  },
  {
   "cell_type": "code",
   "execution_count": null,
   "id": "8fd3983e",
   "metadata": {
    "slideshow": {
     "slide_type": "fragment"
    }
   },
   "outputs": [],
   "source": [
    "import json\n",
    "\n",
    "with open(\"data/mapbox_api_key.json\", 'r') as f:\n",
    "    key_file = f.read()\n",
    "    \n",
    "my_api_key = json.loads(key_file)['key']"
   ]
  },
  {
   "cell_type": "markdown",
   "id": "52a8fd35",
   "metadata": {
    "slideshow": {
     "slide_type": "slide"
    }
   },
   "source": [
    "### 3.2.2. Constructing an API query\n",
    "Now we're ready to format our API request. "
   ]
  },
  {
   "cell_type": "code",
   "execution_count": null,
   "id": "74c50703",
   "metadata": {
    "slideshow": {
     "slide_type": "fragment"
    }
   },
   "outputs": [],
   "source": [
    "import requests\n",
    "\n",
    "base_url = 'https://api.mapbox.com/geocoding/v5/mapbox.places/'\n",
    "address = 'Goldman School of Public Policy'\n",
    "params = {\n",
    "    'limit': 1,  # just get the first record\n",
    "    'access_token': my_api_key}\n",
    "\n",
    "url = requests.Request('GET', base_url + address + '.json', params=params).prepare().url"
   ]
  },
  {
   "cell_type": "markdown",
   "id": "4c426fff",
   "metadata": {
    "slideshow": {
     "slide_type": "fragment"
    }
   },
   "source": [
    "This looks a little more complicated than what we saw last class. The main reason for this is that we are now doing more than simply submitting a `GET` request to URL whose full endpoint we know in advance. Instead, we just know the base URL of our API, and are using strings and key-value pairs to format the rest of the endpoint. This is pretty straightforward with one exception: HTTP doesn't know how to handle white space `\" \"` and many other special characters. So we are relying on the `Request.prepare()` method to take our input data and format it into a string that can be understood by HTTP.\n",
    "\n",
    "You can try printing the url in the cell below to see what this formatted version of the URL looks like, but be careful because it will contain your API key!"
   ]
  },
  {
   "cell_type": "code",
   "execution_count": null,
   "id": "d75ee415",
   "metadata": {
    "slideshow": {
     "slide_type": "fragment"
    }
   },
   "outputs": [],
   "source": [
    "print(url)"
   ]
  },
  {
   "cell_type": "markdown",
   "id": "1bf32263",
   "metadata": {
    "slideshow": {
     "slide_type": "slide"
    }
   },
   "source": [
    "### 3.2.3. Making the request and parsing the response"
   ]
  },
  {
   "cell_type": "code",
   "execution_count": null,
   "id": "7238b29f",
   "metadata": {
    "slideshow": {
     "slide_type": "fragment"
    }
   },
   "outputs": [],
   "source": [
    "from pprint import PrettyPrinter as pp\n",
    "response = requests.get(url)\n",
    "results = response.text\n",
    "data = json.loads(results)\n",
    "data"
   ]
  },
  {
   "cell_type": "markdown",
   "id": "8c3120d5",
   "metadata": {
    "slideshow": {
     "slide_type": "fragment"
    }
   },
   "source": [
    "Does anyone think they have what it takes to extract the coordinates from our API response data?"
   ]
  },
  {
   "cell_type": "code",
   "execution_count": null,
   "id": "7b8b5cbc",
   "metadata": {
    "slideshow": {
     "slide_type": "fragment"
    }
   },
   "outputs": [],
   "source": [
    "data['features'][0]['center']"
   ]
  },
  {
   "cell_type": "markdown",
   "id": "e5f6a2d6",
   "metadata": {
    "slideshow": {
     "slide_type": "slide"
    }
   },
   "source": [
    "### 3.2.5 Exercises\n",
    "\n",
    "1. Search for some other addresses or landmarks!\n",
    "2. Try storing your code as a function named `get_coords()` so that you need only supply a place name and your function will return the coordinates as list or tuple:\n",
    "   ```python\n",
    "    def get_coords(place_str):\n",
    "        \n",
    "        # do something with \"place_str\"\n",
    "        \n",
    "        return coords\n",
    "        \n",
    "   ```\n",
    "2. Take a look at the [API documentation](https://www.mapbox.com/api-documentation/#geocoding). Can you figure out how to retrieve other points of interest near Wurster Hall?"
   ]
  },
  {
   "cell_type": "code",
   "execution_count": null,
   "id": "c2224d55-2719-41bb-9a35-09bd3cb755f4",
   "metadata": {},
   "outputs": [],
   "source": [
    "def get_coords(place_str):\n",
    "    # do something with \"place_str\"\n",
    "    base_url = 'https://api.mapbox.com/geocoding/v5/mapbox.places/'\n",
    "    address = place_str\n",
    "    params = {'limit': 1,  # just get the first record\n",
    "              'access_token': my_api_key}\n",
    "    url = requests.Request('GET', base_url + address + '.json', params=params).prepare().url\n",
    "    response = requests.get(url)\n",
    "    results = response.text\n",
    "    data = json.loads(results)\n",
    "    cords = data['features'][0]['center']\n",
    "    return cords"
   ]
  },
  {
   "cell_type": "code",
   "execution_count": null,
   "id": "fc2c51af-1750-4911-adfa-0b30c43b954b",
   "metadata": {},
   "outputs": [],
   "source": [
    "get_coords('Lick-Wilmerding')"
   ]
  },
  {
   "cell_type": "markdown",
   "id": "4de44928",
   "metadata": {
    "slideshow": {
     "slide_type": "slide"
    }
   },
   "source": [
    "### 3.2.4. The Mapbox SDK"
   ]
  },
  {
   "cell_type": "markdown",
   "id": "b6606781",
   "metadata": {
    "slideshow": {
     "slide_type": "fragment"
    }
   },
   "source": [
    "Mapbox also maintans its own Python package which makes it a little easier to execute HTTP requests against its API. You can find the documentation [here](https://mapbox-mapbox.readthedocs-hosted.com/en/latest/index.html)\n",
    "\n",
    "NOTE: the Mapbox Python API seems to be a bit buggy. In particular it doesn't seem to support Python > 3.9. If you encounter any issues trying to import modules from this library, the best thing to do is to roll back your Python version. From a terminal, you can do:\n",
    "\n",
    "```bash\n",
    "conda install python=3.9\n",
    "```\n",
    "\n",
    "and then restart your notebook kernel using the Kernel drop down menu in the menu panel above (or by typing `00` in rapid succession in command mode)."
   ]
  },
  {
   "cell_type": "markdown",
   "id": "097a0332",
   "metadata": {
    "slideshow": {
     "slide_type": "slide"
    }
   },
   "source": [
    "#### 3.2.4.1. Forward Geocoding\n",
    "\n",
    "Forward geocoding is the one we have looked at so far using an API endpoint.  It takes an address or a place name and returns the geographic coordinates of that location.  Let's look at it again using the Mapbox Python SDK."
   ]
  },
  {
   "cell_type": "code",
   "execution_count": null,
   "id": "59fb10b3",
   "metadata": {
    "slideshow": {
     "slide_type": "fragment"
    }
   },
   "outputs": [],
   "source": [
    "from mapbox import Geocoder\n",
    "import os\n",
    "\n",
    "geocoder = Geocoder(access_token=my_api_key)"
   ]
  },
  {
   "cell_type": "markdown",
   "id": "c5f6ff0d",
   "metadata": {
    "slideshow": {
     "slide_type": "fragment"
    }
   },
   "source": [
    "OK, now we can get to work on the geocoding... let's try geocoding Freehouse Restaurant, which is at 2700 Bancroft Way."
   ]
  },
  {
   "cell_type": "code",
   "execution_count": null,
   "id": "fb51d5df",
   "metadata": {
    "slideshow": {
     "slide_type": "fragment"
    }
   },
   "outputs": [],
   "source": [
    "response = geocoder.forward('2700 Bancroft Way, Berkeley, CA 94704', limit=1)\n",
    "data = response.json()\n",
    "data"
   ]
  },
  {
   "cell_type": "markdown",
   "id": "3e89944f",
   "metadata": {
    "slideshow": {
     "slide_type": "fragment"
    }
   },
   "source": [
    "Another random address to geocode:"
   ]
  },
  {
   "cell_type": "code",
   "execution_count": null,
   "id": "ce0dd11d",
   "metadata": {
    "slideshow": {
     "slide_type": "fragment"
    }
   },
   "outputs": [],
   "source": [
    "response = geocoder.forward('120 East 13th Street, Manhattan, New York, New York 10003', limit = 1)\n",
    "first = response.json()['features'][0]\n",
    "print(first['place_name'])\n",
    "print([coord for coord in first['geometry']['coordinates']])"
   ]
  },
  {
   "cell_type": "markdown",
   "id": "43744d5c",
   "metadata": {
    "slideshow": {
     "slide_type": "slide"
    }
   },
   "source": [
    "#### 3.2.4.2 Creating a dataframe from multiple API queries\n",
    "\n",
    "Can you think of a good way to write a loop to geocode those addresses and add them to a dataframe?  Let's try one way to do this."
   ]
  },
  {
   "cell_type": "code",
   "execution_count": null,
   "id": "62f0a178",
   "metadata": {
    "slideshow": {
     "slide_type": "fragment"
    }
   },
   "outputs": [],
   "source": [
    "import pandas as pd\n",
    "data = pd.DataFrame(index=[], columns=['address','lat','lon'])\n",
    "\n",
    "addrs = [\n",
    "    '3028 Regent St., Berkeley, California, 94705',\n",
    "    '1511 Julia St, Berkeley, California, 94703',\n",
    "    '2700 Bancroft, Berkeley, California, 94704']"
   ]
  },
  {
   "cell_type": "code",
   "execution_count": null,
   "id": "17aa68d5",
   "metadata": {
    "slideshow": {
     "slide_type": "fragment"
    }
   },
   "outputs": [],
   "source": [
    "for i in range(len(addrs)):\n",
    "    geoadress=geocoder.forward(addrs[i], limit = 1).geojson()['features'][0]['geometry']['coordinates']\n",
    "    data.loc[i, 'address']=addrs[i]\n",
    "    data.loc[i, 'lon']=geoadress[0]\n",
    "    data.loc[i, 'lat']=geoadress[1]\n",
    "data"
   ]
  },
  {
   "cell_type": "markdown",
   "id": "af85b6a8",
   "metadata": {
    "slideshow": {
     "slide_type": "slide"
    }
   },
   "source": [
    "#### 3.2.4.3 Reverse Geocoding\n",
    "\n",
    "Reverse geocoding does what it sounds like. It takes coordinates and returns an address or other place type.  Options for place type include: country, region, postcode, district, place, locality, neighborhood, address,and poi.\n",
    "\n",
    "Let's start by using the coordinates of the address we just got from forward geocoding, and get the address back from reverse geocoding of those coordinates."
   ]
  },
  {
   "cell_type": "code",
   "execution_count": null,
   "id": "d555f15d",
   "metadata": {
    "slideshow": {
     "slide_type": "fragment"
    }
   },
   "outputs": [],
   "source": [
    "response = geocoder.reverse(lat=37.868965, lon=-122.254267)\n",
    "features = response.geojson()['features']\n",
    "features"
   ]
  },
  {
   "cell_type": "code",
   "execution_count": null,
   "id": "48542758",
   "metadata": {
    "slideshow": {
     "slide_type": "fragment"
    }
   },
   "outputs": [],
   "source": [
    "for f in features:\n",
    "    print('{place_type[0]}'.format(**f) + ':', '{place_name}'.format(**f))"
   ]
  },
  {
   "cell_type": "markdown",
   "id": "fb0b7ee5",
   "metadata": {
    "slideshow": {
     "slide_type": "slide"
    }
   },
   "source": [
    "## 3.3 Geocoding with Nominatim"
   ]
  },
  {
   "cell_type": "markdown",
   "id": "a45a7cb3",
   "metadata": {
    "slideshow": {
     "slide_type": "fragment"
    }
   },
   "source": [
    "Open source rules! Nominatim is an open source geocoding platform that is managed by OpenStreetMap (I think). Try using the Nominatim API to geocode or reverse geocode some data of interest! You can find the Nominamtim docs [here](https://nominatim.org/release-docs/develop/api/Search/)\n",
    "\n",
    "Hint: whenever you're using an API for the first time, its always a good idea to start by trying to find some example queries in the documentation, and then tweaking them to meet your needs. "
   ]
  },
  {
   "cell_type": "code",
   "execution_count": null,
   "id": "2ed67a1c",
   "metadata": {
    "slideshow": {
     "slide_type": "fragment"
    }
   },
   "outputs": [],
   "source": [
    "query_str = 'wurster hall'\n",
    "url = \"https://nominatim.openstreetmap.org/?addressdetails=1&q={0}&format=json&limit=1\".format(query_str)\n",
    "res = requests.get(url)"
   ]
  },
  {
   "cell_type": "code",
   "execution_count": null,
   "id": "c36adc79",
   "metadata": {
    "slideshow": {
     "slide_type": "fragment"
    }
   },
   "outputs": [],
   "source": [
    "res.json()"
   ]
  },
  {
   "cell_type": "markdown",
   "id": "d6a8b5b9",
   "metadata": {
    "slideshow": {
     "slide_type": "slide"
    }
   },
   "source": [
    "## 3.4. Reverse geocoding with the FCC API\n",
    "\n",
    "Let's load the Craigslist rental listings again and quickly clean it up using the same code we previously used:"
   ]
  },
  {
   "cell_type": "code",
   "execution_count": null,
   "id": "b8bfae96",
   "metadata": {
    "slideshow": {
     "slide_type": "fragment"
    }
   },
   "outputs": [],
   "source": [
    "import pandas as pd\n",
    "import numpy as np\n",
    "\n",
    "df = pd.read_csv('data/bay.csv')\n",
    "\n",
    "# clean price and neighborhood\n",
    "df.price = df.price.str.strip('$').astype('float64')\n",
    "df.neighborhood = df.neighborhood.str.strip().str.strip('(').str.strip(')')\n",
    "\n",
    "# break out the date into month day year columns\n",
    "df['month'] = df['date'].str.split().str[0]\n",
    "df['day'] = df['date'].str.split().str[1].astype('int32')\n",
    "df['year'] = df['date'].str.split().str[2].astype('int32')\n",
    "del df['date']\n",
    "\n",
    "# extract bedrooms and square footage\n",
    "def clean_bdrm(value):\n",
    "\n",
    "    if isinstance(value, str):\n",
    "        end = value.find('br')\n",
    "\n",
    "        if end == -1:\n",
    "            return\n",
    "        \n",
    "        else:\n",
    "            start = value.find('/') + 2\n",
    "            return int(value[start:end])\n",
    "\n",
    "    else:\n",
    "        return\n",
    "    \n",
    "def clean_sqft(value):\n",
    "\n",
    "    if isinstance(value, str):\n",
    "        end = value.find('ft')\n",
    "        \n",
    "        if end == -1:\n",
    "            return\n",
    "\n",
    "        else:\n",
    "            if value.find('br') == -1:\n",
    "                start = value.find('/') + 2\n",
    "            else:\n",
    "                start = value.find('-') + 2\n",
    "\n",
    "            return int(value[start:end])\n",
    "\n",
    "    else:\n",
    "        return\n",
    "    \n",
    "df['sqft'] = df['beds_sqft'].map(clean_sqft)\n",
    "df['bedrooms'] = df['beds_sqft'].map(clean_bdrm)\n",
    "df.head()"
   ]
  },
  {
   "cell_type": "markdown",
   "id": "77c72b5d",
   "metadata": {
    "slideshow": {
     "slide_type": "fragment"
    }
   },
   "source": [
    "And now let's use the FCC [Census Block Conversions API](https://geo.fcc.gov/api/census/) to turn lat/long into a block FIPS code. FIPS codes contain from left to right: the location's 2-digit state code, 3-digit county code, 6-digit census tract code, and 4-digit census block code (the first digit of which is the census block group code). With a FIPS code in hand, you can easily merge your data against Census records. \n",
    "\n",
    "Here's a sample API query to get you started:"
   ]
  },
  {
   "cell_type": "code",
   "execution_count": null,
   "id": "805365c5",
   "metadata": {
    "slideshow": {
     "slide_type": "fragment"
    }
   },
   "outputs": [],
   "source": [
    "lat = 37.761216\n",
    "lon = -122.396965\n",
    "url = 'https://geo.fcc.gov/api/census/block/find?latitude={0}&longitude={1}&format=json'.format(lat, lon)\n",
    "response = requests.get(url)\n",
    "data = response.json()\n",
    "data"
   ]
  },
  {
   "cell_type": "markdown",
   "id": "4b0991d5",
   "metadata": {
    "slideshow": {
     "slide_type": "slide"
    }
   },
   "source": [
    "## 3.5. Exercise\n",
    "\n",
    "Your job now is to write some Python code to get the FIPS code for every row in the Craigslist rental data, and store that FIPS code as a new column in the dataframe. You might consider using [`df.iterrows()`](http://pandas.pydata.org/pandas-docs/dev/generated/pandas.DataFrame.iterrows.html) to loop through each row of the dataframe one at a time, or if you're feeling fancy, you could define a function and use a vectorized approach (e.g. `df.apply()` or `df.map()`) to run the function on each row of your dataframe without any loops at all!\n",
    "\n",
    "**CAUTION: PLEASE DO NOT RUN THIS IN CLASS!!!** If we are all doing this at the same time on the same internet connection, you might get our IP address blacklisted by querying the API too many times.\n",
    "\n",
    "A few tips:\n",
    "- Since the API is SLOW for processing a lot of records, and works one record at a time, test out your code using only a few records until you are positive you have it working correctly. It may take several minutes to grind through all the records. You might want to print the row you are processing...maybe every 10th row, to give you some sense of how it is progressing.\n",
    "- Watch out for those missing lat-longs. You'll probably want to skip them since the API won't know what to do with them.\n",
    "- Consider adding some conditional logic to handle failed HTTP requests. This will prevent you from having to start your iteration over every time your program encounters an error"
   ]
  },
  {
   "cell_type": "markdown",
   "id": "ad383a9f",
   "metadata": {
    "slideshow": {
     "slide_type": "slide"
    }
   },
   "source": [
    "# 4. The Census API"
   ]
  },
  {
   "cell_type": "markdown",
   "id": "ca598514",
   "metadata": {
    "slideshow": {
     "slide_type": "fragment"
    }
   },
   "source": [
    "Whatever \"Urban Informatics\" is or isn't, more often than not you'll find it useful to refer to census data. In this course, we'll be looking at capital-C Census data, i.e. the US Census, if for no other reason than the fact that it is being taught at UC Berkeley which happens to be located in California which happens to be located in the United States. Also, US Census data rocks!\n",
    "\n",
    "**Question**: Does anyone know of other countries that have good, publically available census data?"
   ]
  },
  {
   "cell_type": "markdown",
   "id": "b6a3b588",
   "metadata": {
    "slideshow": {
     "slide_type": "slide"
    }
   },
   "source": [
    "The US Census provides API endpoints for most of its public data. You can find a list of them, along with links to their documentation, [here](https://www.census.gov/data/developers/data-sets.html). \n",
    "\n",
    "You can use those endpoints to construct your own custom queries and get the data you want by sending HTTP requests to those URLs. For example, to get the total population from 2018 in Alameda County, you can do:"
   ]
  },
  {
   "cell_type": "code",
   "execution_count": 59,
   "id": "ab593bfe",
   "metadata": {
    "slideshow": {
     "slide_type": "fragment"
    }
   },
   "outputs": [
    {
     "data": {
      "text/plain": [
       "'https://api.census.gov/data/2018/acs/acs5?get=B01001_001E&for=county:001,075&in=state:06'"
      ]
     },
     "execution_count": 59,
     "metadata": {},
     "output_type": "execute_result"
    }
   ],
   "source": [
    "# define parameters of our API query\n",
    "acs_var = 'B01001_001E'  # total pop\n",
    "state = '06'  # CA\n",
    "counties = ['001', '075']  # Alameda and SF\n",
    "year = 2018\n",
    "\n",
    "# format the URL\n",
    "counties_str = ','.join(counties)\n",
    "url = \"https://api.census.gov/data/{0}/acs/acs5?get={1}&for=county:{2}&in=state:{3}\".format(\n",
    "    year, acs_var, counties_str, state)\n",
    "url\n",
    "# execute the HTTP request\n",
    "#res = requests.get(url)\n",
    "#pd.DataFrame(res.json())"
   ]
  },
  {
   "cell_type": "markdown",
   "id": "be829190",
   "metadata": {
    "slideshow": {
     "slide_type": "slide"
    }
   },
   "source": [
    "## 4.1. Getting a Census API key\n",
    "A word of warning. These Census API queries may or may not work for you without specifying an API key. It's probably a good idea to get one anyways, because you will eventually be asked for it after enough queries. You can do that [here](https://api.census.gov/data/key_signup.html)"
   ]
  },
  {
   "cell_type": "markdown",
   "id": "dca5a351",
   "metadata": {
    "slideshow": {
     "slide_type": "slide"
    }
   },
   "source": [
    "## 4.2. Census API Python Library"
   ]
  },
  {
   "cell_type": "markdown",
   "id": "f857814f",
   "metadata": {
    "slideshow": {
     "slide_type": "fragment"
    }
   },
   "source": [
    "One of the great things about working with open source software and open data is that people are publishing useful tools all the time that you can use to make your life easier. In the case of Census data, there are multiple Python libraries to choose from which are designed to make it a little easier to interact with the Census API.\n",
    "\n",
    "We'll focus on one that's simply called [census](https://github.com/datamade/census). You _will_ need a Census API key to use this package.\n",
    "\n",
    "Use the instructions on that GitHub repo to use `pip` to install the `census` package, along with its sister package `us`."
   ]
  },
  {
   "cell_type": "code",
   "execution_count": 56,
   "id": "048d754e",
   "metadata": {
    "slideshow": {
     "slide_type": "slide"
    }
   },
   "outputs": [
    {
     "data": {
      "text/html": [
       "<div>\n",
       "<style scoped>\n",
       "    .dataframe tbody tr th:only-of-type {\n",
       "        vertical-align: middle;\n",
       "    }\n",
       "\n",
       "    .dataframe tbody tr th {\n",
       "        vertical-align: top;\n",
       "    }\n",
       "\n",
       "    .dataframe thead th {\n",
       "        text-align: right;\n",
       "    }\n",
       "</style>\n",
       "<table border=\"1\" class=\"dataframe\">\n",
       "  <thead>\n",
       "    <tr style=\"text-align: right;\">\n",
       "      <th></th>\n",
       "      <th>NAME</th>\n",
       "      <th>B01001_001E</th>\n",
       "      <th>state</th>\n",
       "      <th>county</th>\n",
       "    </tr>\n",
       "  </thead>\n",
       "  <tbody>\n",
       "    <tr>\n",
       "      <th>0</th>\n",
       "      <td>Alameda County, California</td>\n",
       "      <td>1629615.0</td>\n",
       "      <td>06</td>\n",
       "      <td>001</td>\n",
       "    </tr>\n",
       "    <tr>\n",
       "      <th>1</th>\n",
       "      <td>San Francisco County, California</td>\n",
       "      <td>864263.0</td>\n",
       "      <td>06</td>\n",
       "      <td>075</td>\n",
       "    </tr>\n",
       "  </tbody>\n",
       "</table>\n",
       "</div>"
      ],
      "text/plain": [
       "                               NAME  B01001_001E state county\n",
       "0        Alameda County, California    1629615.0    06    001\n",
       "1  San Francisco County, California     864263.0    06    075"
      ]
     },
     "execution_count": 56,
     "metadata": {},
     "output_type": "execute_result"
    }
   ],
   "source": [
    "from census import Census\n",
    "from us import states\n",
    "\n",
    "# I store my API key stored as an environment variable rather than a .json file\n",
    "census_key = os.getenv(\"CENSUS_API\")  \n",
    "\n",
    "c = Census(census_key, year=year)\n",
    "res = c.acs5.get((\n",
    "    'NAME', acs_var), {\n",
    "    'for': 'county:{}'.format(counties_str),\n",
    "    'in': 'state:{}'.format(states.CA.fips)\n",
    "})\n",
    "\n",
    "pd.DataFrame(res)"
   ]
  },
  {
   "cell_type": "code",
   "execution_count": 57,
   "id": "f513e7c4",
   "metadata": {
    "slideshow": {
     "slide_type": "slide"
    }
   },
   "outputs": [],
   "source": [
    "acs_df = pd.DataFrame()\n",
    "\n",
    "for year in range(2010, 2018):\n",
    "    c = Census(census_key, year=year)\n",
    "    res = c.acs1.get((\n",
    "        'NAME', acs_var), {\n",
    "        'for': 'county:{}'.format(counties_str),\n",
    "        'in': 'state:{}'.format(states.CA.fips)\n",
    "    })\n",
    "\n",
    "    year_df = pd.DataFrame(res)\n",
    "    year_df['year'] = year\n",
    "    acs_df = pd.concat((acs_df, year_df), ignore_index=True)"
   ]
  },
  {
   "cell_type": "code",
   "execution_count": 54,
   "id": "6bcc9df3",
   "metadata": {
    "slideshow": {
     "slide_type": "fragment"
    }
   },
   "outputs": [
    {
     "data": {
      "text/plain": [
       "<Axes: xlabel='year', ylabel='B01001_001E'>"
      ]
     },
     "execution_count": 54,
     "metadata": {},
     "output_type": "execute_result"
    },
    {
     "data": {
      "image/png": "[encoded data removed]",
      "text/plain": [
       "<Figure size 640x480 with 1 Axes>"
      ]
     },
     "metadata": {},
     "output_type": "display_data"
    }
   ],
   "source": [
    "import seaborn as sns\n",
    "sns.lineplot(data=acs_df, x='year', y=acs_var, hue='NAME')"
   ]
  },
  {
   "cell_type": "markdown",
   "id": "d88d443c",
   "metadata": {
    "slideshow": {
     "slide_type": "slide"
    }
   },
   "source": [
    "## 4.3 More exercises!\n",
    "\n",
    "Your turn: \n",
    "1. Look up the latitude and longitude of your home address using forward geocoding\n",
    "2. Use the latitude and longitude from that to get the census block of your home address\n",
    "3. Challenge problem: create a dataframe with 3 street addresses and a description column with labels for these locations, and write code that will iterate through them, get the latitude and longitude for each, and the FIPS block code, County name, and write these addresses, lat and long, and FIPS Block code and County names to a dataframe."
   ]
  },
  {
   "cell_type": "code",
   "execution_count": 55,
   "id": "517f72ab",
   "metadata": {
    "hide_input": true
   },
   "outputs": [
    {
     "data": {
      "text/html": [
       "<iframe style=\"border-radius:12px\" src=\"https://open.spotify.com/embed/track/4KBULZasCMBDKHY8IPUCML?utm_source=generator\" width=\"40%\" height=\"80\" frameBorder=\"0\" allowfullscreen=\"\" allow=\"autoplay; clipboard-write; encrypted-media; fullscreen; picture-in-picture\"></iframe>\n"
      ],
      "text/plain": [
       "<IPython.core.display.HTML object>"
      ]
     },
     "metadata": {},
     "output_type": "display_data"
    }
   ],
   "source": [
    "%%html\n",
    "<iframe style=\"border-radius:12px\" src=\"https://open.spotify.com/embed/track/4KBULZasCMBDKHY8IPUCML?utm_source=generator\" width=\"40%\" height=\"80\" frameBorder=\"0\" allowfullscreen=\"\" allow=\"autoplay; clipboard-write; encrypted-media; fullscreen; picture-in-picture\"></iframe>"
   ]
  },
  {
   "cell_type": "markdown",
   "id": "4f12f3e9",
   "metadata": {
    "slideshow": {
     "slide_type": "slide"
    }
   },
   "source": [
    "# 5. Summary"
   ]
  },
  {
   "cell_type": "markdown",
   "id": "97045cea",
   "metadata": {
    "hide_input": true,
    "slideshow": {
     "slide_type": "fragment"
    }
   },
   "source": [
    "By this point in the class you have all the tools you need to:\n",
    "1. find interesting data sets\n",
    "1. load them into Python\n",
    "1. explore, clean, and manipulate that data\n",
    "1. combine it with external administrative or demographic data from the Census\n",
    "1. create charts and visualizations to communicate your findings\n",
    "1. save your new data to disk so you can come back to it later"
   ]
  },
  {
   "cell_type": "markdown",
   "id": "e54c7bd9",
   "metadata": {
    "slideshow": {
     "slide_type": "slide"
    }
   },
   "source": [
    "# 6. For next time"
   ]
  },
  {
   "cell_type": "markdown",
   "id": "8626c722",
   "metadata": {
    "slideshow": {
     "slide_type": "fragment"
    }
   },
   "source": [
    "- We're about to enter my favorite module of this course: **Working with Geospatial Data**. Some of you have considerable experience with GIS already, and are very comfortable with concepts like coordinate reference systems and map projections, and how to deal with these when working with spatial data.  If so, you might not need to spend much time with the readings for next session, but if not, please at least familiarize yourself with the material from the first two links on the syllabus:\n",
    "  - [mapschool.io](https://mapschool.io/)\n",
    "  - Part I of [Geographic Data Science with Python](https://geographicdata.science/book/notebooks/00_toc.html)\n",
    "\n",
    "- We will also be using the GeoPandas Python library, so browse the documentation [here](http://geopandas.org/) and install it ahead of time.\n",
    "- Work through the exercises in this notebook that you didn't get through in class"
   ]
  },
  {
   "cell_type": "markdown",
   "id": "4ea0b2f7",
   "metadata": {
    "hide_input": false,
    "slideshow": {
     "slide_type": "slide"
    }
   },
   "source": [
    "# 7. Questions?"
   ]
  },
  {
   "cell_type": "markdown",
   "id": "632834b8",
   "metadata": {},
   "source": [
    "# Sources\n",
    "\n",
    "This notebook was heavily adapted from previous course material by [Prof. Paul Waddell](https://urbansim.com/people) and [Samuel Maurer](http://samuelmaurer.info/)."
   ]
  }
 ],
 "metadata": {
  "celltoolbar": "Slideshow",
  "kernelspec": {
   "display_name": "Python 3 (ipykernel)",
   "language": "python",
   "name": "python3"
  },
  "language_info": {
   "codemirror_mode": {
    "name": "ipython",
    "version": 3
   },
   "file_extension": ".py",
   "mimetype": "text/x-python",
   "name": "python",
   "nbconvert_exporter": "python",
   "pygments_lexer": "ipython3",
   "version": "3.8.18"
  },
  "toc": {
   "base_numbering": 1,
   "nav_menu": {},
   "number_sections": false,
   "sideBar": false,
   "skip_h1_title": false,
   "title_cell": "Table of Contents",
   "title_sidebar": "Contents",
   "toc_cell": false,
   "toc_position": {
    "height": "757px",
    "left": "31px",
    "top": "142.133px",
    "width": "336px"
   },
   "toc_section_display": true,
   "toc_window_display": false
  },
  "widgets": {
   "application/vnd.jupyter.widget-state+json": {
    "state": {},
    "version_major": 2,
    "version_minor": 0
   }
  }
 },
 "nbformat": 4,
 "nbformat_minor": 5
}
